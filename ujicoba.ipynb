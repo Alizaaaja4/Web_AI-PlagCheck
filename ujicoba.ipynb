import cv2

class PeopleDetector:
    def __init__(self):
        # Load the Haar cascade for face detection
        self.face_cascade = cv2.CascadeClassifier('haarcascade_frontalface_default.xml')
        self.img_path = 'person_detection_data'

    def detect_people(self, frame):
        # Convert the frame to grayscale
        gray = cv2.cvtColor(frame, cv2.COLOR_BGR2GRAY)

        # Detect faces in the grayscale frame
        faces = self.face_cascade.detectMultiScale(gray, scaleFactor=1.1, minNeighbors=5, minSize=(30, 30), flags = cv2.CASCADE_SCALE_IMAGE)

        # Draw a rectangle around each detected face
        for (x, y, w, h) in faces:
            cv2.rectangle(frame, (x, y), (x+w, y+h), (255, 0, 0), 2)

        # Return the frame
        return frame

def cv2_imshow(image):
    cv2.imshow('Result', image)
    cv2.waitKey(0)
    cv2.destroyAllWindows()

# Load the sample image
img = cv2.imread('test_images/image01.jpg')

# Perform the people detection
frame = PeopleDetector().detect_people(img)

# Display the image with the detected faces
cv2_imshow(frame)
